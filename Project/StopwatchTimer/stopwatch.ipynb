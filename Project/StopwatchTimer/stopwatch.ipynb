{
 "cells": [
  {
   "cell_type": "markdown",
   "metadata": {},
   "source": [
    "# Stopwatch\n",
    "\n",
    "Simple stopwatch macro, writing result into a file (to be read by analysis program)\n",
    "\n",
    "### Authors:\n",
    "Troels Petersens (original stopwatch.py version)\n",
    "Étienne Bourbeau (notebook version)\n",
    "\n",
    "### Last modified:\n",
    "November 20th 2020\n",
    "\n",
    "## IMPORTANT NOTE: \n",
    "__It is strongly recommended to use the python script (stopwatch_py3.py) on your own computer for the lab, instead of this notebook, as the notebook and running on a remote server like ERDA might potentially lead to inaccuracies in the timing recorded.__"
   ]
  },
  {
   "cell_type": "code",
   "execution_count": 1,
   "metadata": {},
   "outputs": [],
   "source": [
    "# Importing useful libraries\n",
    "from time import time\n",
    "import os,sys\n",
    "\n",
    "# Standard name to use for the output file.\n",
    "name = \"timer_output.dat\""
   ]
  },
  {
   "cell_type": "markdown",
   "metadata": {},
   "source": [
    "The Following section of the notebook will verify that the output file name does not already exists in your current directory. If it does, you will be asked to enter a new file name.\n",
    "\n",
    "If the file name satisfies all the required conditions, the stopwatch will start and you will be able to record time stamps simply by pressing \"enter\""
   ]
  },
  {
   "cell_type": "code",
   "execution_count": 2,
   "metadata": {},
   "outputs": [
    {
     "name": "stdout",
     "output_type": "stream",
     "text": [
      "   0 \t     0.0000 \t Laptime by enter, Exit by key+enter \t\n",
      "   1 \t     5.4575 \t Laptime by enter, Exit by key+enter \t\n",
      "   2 \t     7.7909 \t Laptime by enter, Exit by key+enter \t\n",
      "   3 \t     9.5436 \t Laptime by enter, Exit by key+enter \t\n",
      "   4 \t    11.4126 \t Laptime by enter, Exit by key+enter \t\n",
      "   5 \t    13.0735 \t Laptime by enter, Exit by key+enter \t\n",
      "   6 \t    14.5245 \t Laptime by enter, Exit by key+enter \t\n",
      "   7 \t    15.9598 \t Laptime by enter, Exit by key+enter \t\n",
      "   8 \t    17.2809 \t Laptime by enter, Exit by key+enter \t\n",
      "   9 \t    18.5874 \t Laptime by enter, Exit by key+enter \t\n",
      "  10 \t    19.8243 \t Laptime by enter, Exit by key+enter \t\n",
      "  11 \t    21.0254 \t Laptime by enter, Exit by key+enter \t\n",
      "  12 \t    22.2042 \t Laptime by enter, Exit by key+enter \t\n",
      "  13 \t    23.3673 \t Laptime by enter, Exit by key+enter \t\n",
      "  14 \t    24.4812 \t Laptime by enter, Exit by key+enter \t\n",
      "  15 \t    25.5673 \t Laptime by enter, Exit by key+enter \t\n",
      "  16 \t    26.6584 \t Laptime by enter, Exit by key+enter \t\n",
      "  17 \t    27.6981 \t Laptime by enter, Exit by key+enter \t\n",
      "  18 \t    28.6729 \t Laptime by enter, Exit by key+enter \t\n",
      "  19 \t    29.6107 \t Laptime by enter, Exit by key+enter \t\n",
      "  20 \t    30.5470 \t Laptime by enter, Exit by key+enter \t\n",
      "  21 \t    31.5290 \t Laptime by enter, Exit by key+enter \t\n",
      "  22 \t    32.5269 \t Laptime by enter, Exit by key+enter \t\n",
      "  23 \t    33.5030 \t Laptime by enter, Exit by key+enter \t\n",
      "  24 \t    34.5258 \t Laptime by enter, Exit by key+enter \t\n",
      "  25 \t    35.6301 \t Laptime by enter, Exit by key+enter \t\n",
      "  26 \t    36.7326 \t Laptime by enter, Exit by key+enter \t\n",
      "  27 \t    37.7979 \t Laptime by enter, Exit by key+enter \t\n",
      "  28 \t    38.8141 \t Laptime by enter, Exit by key+enter \t\n",
      "  29 \t    39.8288 \t Laptime by enter, Exit by key+enter \t\n",
      "  30 \t    40.8038 \t Laptime by enter, Exit by key+enter \t\n",
      "  31 \t    41.7075 \t Laptime by enter, Exit by key+enter \t\n",
      "  32 \t    42.6170 \t Laptime by enter, Exit by key+enter \t\n",
      "  33 \t    43.5677 \t Laptime by enter, Exit by key+enter \t\n",
      "  34 \t    44.5496 \t Laptime by enter, Exit by key+enter \t\n",
      "  35 \t    45.5696 \t Laptime by enter, Exit by key+enter \t\n",
      "  36 \t    46.5486 \t Laptime by enter, Exit by key+enter \t\n",
      "  37 \t    47.5799 \t Laptime by enter, Exit by key+enter \t\n",
      "  38 \t    48.5468 \t Laptime by enter, Exit by key+enter \t\n",
      "  39 \t    49.5542 \t Laptime by enter, Exit by key+enter \t\n",
      "  40 \t    50.5971 \t Laptime by enter, Exit by key+enter \t\n",
      "  41 \t    51.6334 \t Laptime by enter, Exit by key+enter \t\n",
      "  42 \t    52.6331 \t Laptime by enter, Exit by key+enter \t\n",
      "  43 \t    53.6345 \t Laptime by enter, Exit by key+enter \t\n",
      "  44 \t    54.6684 \t Laptime by enter, Exit by key+enter \t\n",
      "  45 \t    55.6613 \t Laptime by enter, Exit by key+enter \t\n",
      "  46 \t    56.6082 \t Laptime by enter, Exit by key+enter \t\n",
      "  47 \t    57.6406 \t Laptime by enter, Exit by key+enter \t\n",
      "  48 \t    58.5594 \t Laptime by enter, Exit by key+enter \t\n",
      "  49 \t    59.4843 \t Laptime by enter, Exit by key+enter \t\n",
      "  50 \t    60.4632 \t Laptime by enter, Exit by key+enter \t\n",
      "  51 \t    61.1862 \t Laptime by enter, Exit by key+enter \t \n",
      "Done.\n"
     ]
    }
   ],
   "source": [
    "\n",
    "n = 0\n",
    "while (os.path.isfile(name)):\n",
    "    print(\"The file \",name,\" already exists in this directory.\")\n",
    "    name = input(\"Please enter a new name for your output file: \")\n",
    "    \n",
    "newname = name\n",
    "    \n",
    "# Make some check about the string entered\n",
    "if len(newname)==0:\n",
    "    good_name=False\n",
    "else:\n",
    "    good_name=(newname[0].isalpha())*(newname.endswith(\".dat\"))\n",
    "    \n",
    "while n<5 and (not good_name):\n",
    "    newname = input(\"Name must end with .dat and first character must be a letter: \")\n",
    "    n+=1\n",
    "    if len(newname)==0:\n",
    "        newname = input(\"Name must not be empty: \")\n",
    "        n+=1\n",
    "        continue\n",
    "    else:\n",
    "        good_name=(newname[0].isalpha())*(newname.endswith(\".dat\"))\n",
    "            \n",
    "if not good_name:\n",
    "    print(\"ERROR: Filename does not fulfill basic requirements.\")\n",
    "    sys.exit()\n",
    "else:\n",
    "    name = newname\n",
    "        \n",
    "    \n",
    "with open(name, \"w\") as outfile : \n",
    "    now = time()\n",
    "    laptime = 0.0\n",
    "    counter = 0\n",
    "    while( input( \"%4d \\t %10.4f \\t Laptime by enter, Exit by key+enter \\t\"%(counter, laptime) ) is \"\" ) : \n",
    "        counter += 1\n",
    "        laptime = time()-now\n",
    "        outfile.write(\"%4d \\t %10.4f \\n\"%(counter, laptime))\n",
    "        \n",
    "    print(\"Done.\")"
   ]
  }
 ],
 "metadata": {
  "kernelspec": {
   "display_name": "Python 3",
   "language": "python",
   "name": "python3"
  },
  "language_info": {
   "codemirror_mode": {
    "name": "ipython",
    "version": 3
   },
   "file_extension": ".py",
   "mimetype": "text/x-python",
   "name": "python",
   "nbconvert_exporter": "python",
   "pygments_lexer": "ipython3",
   "version": "3.7.6"
  }
 },
 "nbformat": 4,
 "nbformat_minor": 2
}
