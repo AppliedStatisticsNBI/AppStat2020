{
 "cells": [
  {
   "cell_type": "markdown",
   "metadata": {},
   "source": [
    "# Minimization Example\n",
    "\n",
    "### Authors: \n",
    "- Christian Michelsen (Niels Bohr Institute)\n",
    "- Troels Petersen (Niels Bohr Institute)\n",
    "\n",
    "### Date:    \n",
    "- 11-11-2020 (latest update)\n",
    "\n",
    "***\n",
    "\n",
    "Small example of how Minuit tries to find the minimum in a parameter space. In this notebook we try to interactively fit a straight line (with no offset) to data while seeing what the $\\chi^2$-value is. \n",
    "\n",
    "***\n",
    "\n",
    "First, we import the modules we want to use:"
   ]
  },
  {
   "cell_type": "code",
   "execution_count": 1,
   "metadata": {},
   "outputs": [],
   "source": [
    "import numpy as np\n",
    "import matplotlib.pyplot as plt\n",
    "\n",
    "from ipywidgets import interactive   # Allows us to use interactive plotting capabilities in Jupyter Notebooks\n"
   ]
  },
  {
   "cell_type": "markdown",
   "metadata": {},
   "source": [
    "We define the random seed and the true slope of the fit:"
   ]
  },
  {
   "cell_type": "code",
   "execution_count": 2,
   "metadata": {},
   "outputs": [],
   "source": [
    "r = np.random\n",
    "r.seed(42)\n",
    "\n",
    "a_true = 1.5"
   ]
  },
  {
   "cell_type": "markdown",
   "metadata": {},
   "source": [
    "We define the fitting function, a linear fit wit no offset, and a function which calculates the $\\chi^2$-value. Both are one-liners, but is still used to get into the habit of rewriting code into smaller submodules that can be reused several times:"
   ]
  },
  {
   "cell_type": "code",
   "execution_count": 3,
   "metadata": {},
   "outputs": [],
   "source": [
    "def linear(x, a):\n",
    "    y = a*x\n",
    "    return y\n",
    "\n",
    "def calc_chi2(yhat, y, sy):\n",
    "    chi2 = np.sum((yhat-y)**2 / sy**2)\n",
    "    return chi2"
   ]
  },
  {
   "cell_type": "markdown",
   "metadata": {},
   "source": [
    "We define the input data; `x` and `y` with gaussian errors added to them and the uncertainties of `y`, `sy`:"
   ]
  },
  {
   "cell_type": "code",
   "execution_count": 4,
   "metadata": {},
   "outputs": [],
   "source": [
    "x = np.linspace(0, 5, 10) \n",
    "x += r.normal(0, 0.1, len(x))\n",
    "\n",
    "y = linear(x, a_true)\n",
    "y += r.normal(0, 0.5, len(y))\n",
    "\n",
    "sy = 1 * np.ones_like(y)"
   ]
  },
  {
   "cell_type": "markdown",
   "metadata": {},
   "source": [
    "Below is where the magic happens. We define `animate_linear_chi2_fit` to be a function which takes a single input, `p0`, and plots the line with this given slope together with the data points. It also plots the $\\chi^2$-value as a function of `p0`. We input the function to the iPython widget `interactive` which we loaded initially and set the range of `p0` and finally we display it in the last line:"
   ]
  },
  {
   "cell_type": "code",
   "execution_count": 5,
   "metadata": {},
   "outputs": [
    {
     "data": {
      "application/vnd.jupyter.widget-view+json": {
       "model_id": "1fe83804abfd407d9f8a0937754112ad",
       "version_major": 2,
       "version_minor": 0
      },
      "text/plain": [
       "interactive(children=(FloatSlider(value=0.0, description='p0', max=5.0, min=-2.0, step=0.01), Output()), _dom_…"
      ]
     },
     "metadata": {},
     "output_type": "display_data"
    }
   ],
   "source": [
    "p0_list = []\n",
    "chi2_list = [] \n",
    "\n",
    "def animate_linear_chi2_fit(p0=0):\n",
    "    \n",
    "    # create empty figure with 2 subplots\n",
    "    fig, ax = plt.subplots(ncols=2, figsize=(18, 8))\n",
    "\n",
    "    # calculate the predicted y-values given the current guess of p0 and the corresponding chi2-value\n",
    "    yhat = linear(x, p0)\n",
    "    chi2 = calc_chi2(yhat, y, sy)\n",
    "    \n",
    "    # append the current value of p0 and chi2 to lists to save the old values\n",
    "    p0_list.append(p0)\n",
    "    chi2_list.append(chi2)\n",
    "    \n",
    "    # define an x- and y-axis (note, only 2 points are needed in the linear case)\n",
    "    xaxis = np.linspace(-1, 6, 2)\n",
    "    yaxis = linear(xaxis, p0)\n",
    "    \n",
    "    # plot the data, the linear function given p0 and set a legend and labels names etc.\n",
    "    ax[0].errorbar(x, y, sy, fmt='.', label='Data Points')\n",
    "    ax[0].plot(xaxis, yaxis, '-', label='Fit')\n",
    "    ax[0].legend(loc='upper left');\n",
    "    ax[0].set(xlim=(-1, 6), ylim=(-2, 10), xlabel='x', ylabel='y', title='Plot of data points and fit')\n",
    "    \n",
    "    # plot the list of previous p0-values and chi2-values, the current ones and set a legend and labels names etc.\n",
    "    ax[1].plot(p0_list, chi2_list, 'o', label='Chi2-values')\n",
    "    ax[1].plot(p0, chi2, 'o', label='Current Chi2-value')\n",
    "    ax[1].legend(loc='upper left');\n",
    "    ax[1].text(1.5, 500, fr'$\\chi^2 = {chi2:.1f}$', fontsize=14, ha='center')\n",
    "    ax[1].set(xlim=(-2.1, 5.1), ylim=(-100, 1000), xlabel='p0', ylabel=r'$\\chi^2$', title='Chi-square plot as a function of p0')\n",
    "\n",
    "    fig.tight_layout()\n",
    "\n",
    "# make the above function interactive with p0 given in the range from -2 to 5 in steps 0.01\n",
    "interactive_plot = interactive(animate_linear_chi2_fit, p0=(-2.0, 5.0, 0.01))\n",
    "interactive_plot"
   ]
  },
  {
   "cell_type": "markdown",
   "metadata": {},
   "source": [
    "##### Observation:\n",
    "\n",
    "Note how the $\\chi^2$ value is minimal at about the correct value, and forms a parabola on either side of this best fit value. This is very general (for well behaved problems!), and the uncertainty on the fit parameter can be determined from this parabola (or the curve in general), as the uncertainty is the distance to the point, where the $\\chi^2$ value has increased 1.\n",
    "\n",
    "This is more complicated with several correlated variables, which is why we are happy to have a minimizer like Minuit, but in principle it is the same."
   ]
  },
  {
   "cell_type": "code",
   "execution_count": null,
   "metadata": {},
   "outputs": [],
   "source": []
  }
 ],
 "metadata": {
  "kernelspec": {
   "display_name": "Python 3",
   "language": "python",
   "name": "python3"
  },
  "language_info": {
   "codemirror_mode": {
    "name": "ipython",
    "version": 3
   },
   "file_extension": ".py",
   "mimetype": "text/x-python",
   "name": "python",
   "nbconvert_exporter": "python",
   "pygments_lexer": "ipython3",
   "version": "3.7.6"
  }
 },
 "nbformat": 4,
 "nbformat_minor": 2
}
