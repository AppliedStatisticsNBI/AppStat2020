{
 "cells": [
  {
   "cell_type": "markdown",
   "metadata": {},
   "source": [
    "# Simpson's Paradox\n",
    "\n",
    "### Authors: \n",
    "- Christian Michelsen (Niels Bohr Institute)\n",
    "- Troels C. Petersen (Niels Bohr Institute)\n",
    "\n",
    "### Date:    \n",
    "- 05-11-2020 (latest update)\n",
    "\n",
    "***\n",
    "\n",
    "The aim of this notebook is to illustrate Simpson's paradox through a simple, quick example.\n",
    "\n",
    "For more information on the Simpson's Paradox, see: __[Wikipedia](https://en.wikipedia.org/wiki/Simpson%27s_paradox)__\n",
    "\n",
    "This small example is meant to show how aggregating different samples can change the overall statistics completely. In this specific case we will look at how the amount of exercise can change the risk of catching a highly infectioness disease.  \n",
    "\n",
    "***\n",
    "\n",
    "First, we import the modules we want to use:"
   ]
  },
  {
   "cell_type": "code",
   "execution_count": 1,
   "metadata": {},
   "outputs": [],
   "source": [
    "import numpy as np\n",
    "import matplotlib.pyplot as plt\n",
    "import pandas as pd\n",
    "import seaborn as sns\n",
    "\n",
    "sns.set(color_codes=True)"
   ]
  },
  {
   "cell_type": "markdown",
   "metadata": {},
   "source": [
    "We then load the data located in the csv file `Simpsons_paradox.csv` into a Pandas DataFrame and see what it contains:"
   ]
  },
  {
   "cell_type": "code",
   "execution_count": 2,
   "metadata": {},
   "outputs": [
    {
     "data": {
      "text/html": [
       "<div>\n",
       "<style scoped>\n",
       "    .dataframe tbody tr th:only-of-type {\n",
       "        vertical-align: middle;\n",
       "    }\n",
       "\n",
       "    .dataframe tbody tr th {\n",
       "        vertical-align: top;\n",
       "    }\n",
       "\n",
       "    .dataframe thead th {\n",
       "        text-align: right;\n",
       "    }\n",
       "</style>\n",
       "<table border=\"1\" class=\"dataframe\">\n",
       "  <thead>\n",
       "    <tr style=\"text-align: right;\">\n",
       "      <th></th>\n",
       "      <th>Exercise</th>\n",
       "      <th>Age</th>\n",
       "      <th>Probability</th>\n",
       "    </tr>\n",
       "  </thead>\n",
       "  <tbody>\n",
       "    <tr>\n",
       "      <th>0</th>\n",
       "      <td>9.720159</td>\n",
       "      <td>20-40</td>\n",
       "      <td>20.988422</td>\n",
       "    </tr>\n",
       "    <tr>\n",
       "      <th>1</th>\n",
       "      <td>2.498937</td>\n",
       "      <td>10-20</td>\n",
       "      <td>22.323348</td>\n",
       "    </tr>\n",
       "    <tr>\n",
       "      <th>2</th>\n",
       "      <td>5.520742</td>\n",
       "      <td>10-20</td>\n",
       "      <td>5.875953</td>\n",
       "    </tr>\n",
       "    <tr>\n",
       "      <th>3</th>\n",
       "      <td>8.441350</td>\n",
       "      <td>60-80</td>\n",
       "      <td>74.790105</td>\n",
       "    </tr>\n",
       "    <tr>\n",
       "      <th>4</th>\n",
       "      <td>10.813937</td>\n",
       "      <td>40-60</td>\n",
       "      <td>50.120903</td>\n",
       "    </tr>\n",
       "    <tr>\n",
       "      <th>5</th>\n",
       "      <td>8.362772</td>\n",
       "      <td>40-60</td>\n",
       "      <td>50.933656</td>\n",
       "    </tr>\n",
       "    <tr>\n",
       "      <th>6</th>\n",
       "      <td>5.232431</td>\n",
       "      <td>20-40</td>\n",
       "      <td>36.104305</td>\n",
       "    </tr>\n",
       "    <tr>\n",
       "      <th>7</th>\n",
       "      <td>11.192118</td>\n",
       "      <td>60-80</td>\n",
       "      <td>64.977362</td>\n",
       "    </tr>\n",
       "    <tr>\n",
       "      <th>8</th>\n",
       "      <td>13.174650</td>\n",
       "      <td>60-80</td>\n",
       "      <td>76.653905</td>\n",
       "    </tr>\n",
       "    <tr>\n",
       "      <th>9</th>\n",
       "      <td>8.463829</td>\n",
       "      <td>10-20</td>\n",
       "      <td>4.628246</td>\n",
       "    </tr>\n",
       "  </tbody>\n",
       "</table>\n",
       "</div>"
      ],
      "text/plain": [
       "    Exercise    Age  Probability\n",
       "0   9.720159  20-40    20.988422\n",
       "1   2.498937  10-20    22.323348\n",
       "2   5.520742  10-20     5.875953\n",
       "3   8.441350  60-80    74.790105\n",
       "4  10.813937  40-60    50.120903\n",
       "5   8.362772  40-60    50.933656\n",
       "6   5.232431  20-40    36.104305\n",
       "7  11.192118  60-80    64.977362\n",
       "8  13.174650  60-80    76.653905\n",
       "9   8.463829  10-20     4.628246"
      ]
     },
     "execution_count": 2,
     "metadata": {},
     "output_type": "execute_result"
    }
   ],
   "source": [
    "df = pd.read_csv(\"Simpsons_paradox.csv\", index_col=0) #index_col=0 to make sure that the first columns is used as the index\n",
    "df.head(10)"
   ]
  },
  {
   "cell_type": "markdown",
   "metadata": {},
   "source": [
    "For a very quick, but illustrating, example of how to work with Pandas DataFrames, see the following __[link](https://jalammar.github.io/gentle-visual-intro-to-data-analysis-python-pandas)__.\n",
    "\n",
    "***\n",
    "\n",
    "To further see any relationships in the data, we plot the hours pr. week of exercise vs. the probability of catching the highly infectious disease. "
   ]
  },
  {
   "cell_type": "code",
   "execution_count": 3,
   "metadata": {},
   "outputs": [
    {
     "data": {
      "image/png": "[encoded data removed]",
      "text/plain": [
       "<Figure size 1008x576 with 1 Axes>"
      ]
     },
     "metadata": {},
     "output_type": "display_data"
    }
   ],
   "source": [
    "fig1, ax1 = plt.subplots(ncols=1, figsize=(14, 8))\n",
    "ax1 = sns.scatterplot(x=\"Exercise\", y=\"Probability\", data=df, label=\"Age: All\", ax=ax1)"
   ]
  },
  {
   "cell_type": "markdown",
   "metadata": {},
   "source": [
    "Here the plot is done using Seaborn and its `scatterplot` function. This works closely together with Pandas DataFrames, where we simply write the strings of the dataframe columns and provide the dataframe via the `data` keyword. \n",
    "\n",
    "## Questions: \n",
    "\n",
    "- What can you conclude from the following plot? \n",
    "\n",
    "***\n",
    "\n",
    "- In this example we have more data that we haven't used yet; the age of the patient. How would you include this information in the plot and does this alter your above conclusion? "
   ]
  },
  {
   "cell_type": "code",
   "execution_count": 4,
   "metadata": {},
   "outputs": [],
   "source": [
    "\n",
    "\n",
    "\n",
    "\n",
    "\n",
    "\n",
    "\n",
    "\n",
    "\n",
    "\n",
    "\n",
    "\n",
    "\n",
    "\n",
    "# insert code here\n",
    "\n",
    "\n",
    "\n",
    "\n",
    "\n",
    "\n",
    "\n",
    "\n",
    "\n",
    "\n",
    "\n",
    "\n",
    "\n"
   ]
  },
  {
   "cell_type": "markdown",
   "metadata": {},
   "source": [
    "\n",
    "- ___Hint___: _look up the `hue` keyword in the `scatterplot` function_\n",
    "\n",
    "***\n",
    "\n",
    "### Optional question:\n",
    "\n",
    "When finished, you can take at the generating function located in `Simpsons_paradox_generate_data.py` and see if it makes sense.\n"
   ]
  }
 ],
 "metadata": {
  "kernelspec": {
   "display_name": "Python 3",
   "language": "python",
   "name": "python3"
  },
  "language_info": {
   "codemirror_mode": {
    "name": "ipython",
    "version": 3
   },
   "file_extension": ".py",
   "mimetype": "text/x-python",
   "name": "python",
   "nbconvert_exporter": "python",
   "pygments_lexer": "ipython3",
   "version": "3.7.6"
  }
 },
 "nbformat": 4,
 "nbformat_minor": 2
}
