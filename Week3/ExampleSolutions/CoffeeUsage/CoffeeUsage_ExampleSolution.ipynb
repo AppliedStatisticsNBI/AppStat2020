{
 "cells": [
  {
   "cell_type": "markdown",
   "metadata": {},
   "source": [
    "# Coffee Usage\n",
    "\n",
    "### Author: \n",
    "- Troels C. Petersen (Niels Bohr Institute)\n",
    "\n",
    "### Date:    \n",
    "- 07-12-2020 (latest update by Nikki Arendse)\n",
    "\n",
    "***\n",
    "\n",
    "Python notebook for analysing the coffee usage in the NBI HEP group, and determining the length of the Christmas vacation from a fit to it.\n",
    "\n",
    "For a period in 2009-2010, the usage of the old coffey machine in the NBI HEP group was (somewhat irregularly) monitored. Below is the count of total number of cups of coffey ever brewed at given dates. We will mainly focus on the data from around Christmas...\n",
    "\n",
    "\n",
    "- 28479   4/11-2009     NOTE: This day, we in the following define as day 0! \n",
    "- 28674  13/11-2009 \n",
    "- 28777  18/11-2009 \n",
    "- 28964  25/11-2009 \n",
    "- 29041  27/11-2009 \n",
    "- 29374  10/12-2009 \n",
    "- ~29650   8/ 1-2010\n",
    "- 30001  29/ 1-2010 (?)\n",
    "- 30221   8/ 2-2010\n",
    "- 30498  21/ 2-2010\n",
    "- 32412  17/ 5-2010\n",
    "- 33676  11/ 8-2010\n",
    "- 34008   9/ 9-2010`\n",
    "\n",
    "***\n",
    "\n",
    "First, we import the modules we want to use:\n"
   ]
  },
  {
   "cell_type": "code",
   "execution_count": 1,
   "metadata": {},
   "outputs": [],
   "source": [
    "import numpy as np                                     # Matlab like syntax for linear algebra and functions\n",
    "import matplotlib.pyplot as plt                        # Plots and figures like you know them from Matlab\n",
    "import seaborn as sns                                  # Make the plots nicer to look at\n",
    "from iminuit import Minuit                             # The actual fitting tool, better than scipy's\n",
    "import sys                                             # Modules to see files and folders in directories\n",
    "from scipy import stats"
   ]
  },
  {
   "cell_type": "markdown",
   "metadata": {},
   "source": [
    "load the external functions:"
   ]
  },
  {
   "cell_type": "code",
   "execution_count": 2,
   "metadata": {},
   "outputs": [],
   "source": [
    "sys.path.append('../../../External_Functions')\n",
    "from ExternalFunctions import Chi2Regression, BinnedLH, UnbinnedLH\n",
    "from ExternalFunctions import nice_string_output, add_text_to_ax    # Useful functions to print fit results on figure"
   ]
  },
  {
   "cell_type": "markdown",
   "metadata": {},
   "source": [
    "and define the parameters of the program:"
   ]
  },
  {
   "cell_type": "code",
   "execution_count": 3,
   "metadata": {},
   "outputs": [],
   "source": [
    "save_plots = False"
   ]
  },
  {
   "cell_type": "markdown",
   "metadata": {},
   "source": [
    "## Fitting functions:\n",
    "\n",
    "First we define a simple linear function:"
   ]
  },
  {
   "cell_type": "code",
   "execution_count": 4,
   "metadata": {},
   "outputs": [],
   "source": [
    "def func_coffee_simple(x, p0, p1): \n",
    "    return p0 + p1*x"
   ]
  },
  {
   "cell_type": "markdown",
   "metadata": {},
   "source": [
    "Now YOU should add an extra parameter, which is the length of the vacation:"
   ]
  },
  {
   "cell_type": "code",
   "execution_count": 5,
   "metadata": {
    "lines_to_next_cell": 2
   },
   "outputs": [],
   "source": [
    "def func_coffee_advanced(x, p0, p1, p2):\n",
    "    \n",
    "    # Define when the vacation is (i.e. which points are before and which are after).\n",
    "    # This could in itself be a fitting parameter, but for now we keep things simple.\n",
    "    start_vacation = 40.0       # I.e. 40 days after the first date, which 4th of November\n",
    "    \n",
    "    # Before the vacation, fit with regular linear relation:\n",
    "    if (x < start_vacation):\n",
    "        return p0 + p1*x\n",
    "    \n",
    "    # During the vacation, fit with a constant value for the duration of the vacation (p2):\n",
    "    elif (start_vacation < x < start_vacation+p2):\n",
    "        return p0 + p1*start_vacation\n",
    "    \n",
    "    # After the vacation, fit with a line, subtracting the vacation length from the time:\n",
    "    else:\n",
    "        return p0 + p1*(x - p2)\n",
    "\n",
    "    \n",
    "    # Here goes your function in terms of p0, p1, and p2 (vacation length)...\n",
    "    #return p0 + p1*x + p2*np.sqrt(np.abs(x)+10.0)       # Just a silly function!\n",
    "    \n",
    "# Numpy-way of \"vectorizing\" the function above:\n",
    "func_coffee_advanced_vec = np.vectorize(func_coffee_advanced)"
   ]
  },
  {
   "cell_type": "markdown",
   "metadata": {},
   "source": [
    "The reason why we are using the last line is to allow `func_coffee_advanced` to take Numpy arrays as inputs, so we do not have to loop over entire lists."
   ]
  },
  {
   "cell_type": "markdown",
   "metadata": {},
   "source": [
    "## Coffee Usage\n",
    "\n",
    "Data set (So small that we will not use a seperate file for it!). We define 4th of November 2009 to be day 0, and count from there."
   ]
  },
  {
   "cell_type": "code",
   "execution_count": 6,
   "metadata": {},
   "outputs": [
    {
     "name": "stdout",
     "output_type": "stream",
     "text": [
      "days:   0    cups: 28479\n",
      "days:   9    cups: 28674\n",
      "days:  14    cups: 28777\n",
      "days:  21    cups: 28964\n",
      "days:  23    cups: 29041\n",
      "days:  36    cups: 29374\n",
      "days:  65    cups: 29650\n",
      "days:  76    cups: 30001\n",
      "days:  86    cups: 30221\n",
      "days:  99    cups: 30498\n",
      "days: 194    cups: 32412\n",
      "days: 280    cups: 33676\n",
      "days: 309    cups: 34008\n"
     ]
    }
   ],
   "source": [
    "days = np.array([     0,     9,    14,    21,    23,    36,    65,    76,    86,    99,   194,   280,   309 ])\n",
    "cups = np.array([ 28479, 28674, 28777, 28964, 29041, 29374, 29650, 30001, 30221, 30498, 32412, 33676, 34008 ])\n",
    "edays = np.zeros_like(days)\n",
    "ecups = np.ones_like(cups)*30.0   # I estimate the uncertainty to be 30 cups, but perhaps you disagree?\n",
    "                                  # Certainly, it is NOT the square root, as it is not at all a Poisson number!\n",
    "\n",
    "# Print the number of days:\n",
    "for day, cup in zip(days, cups):\n",
    "    print(f\"days: {day:3.0f}    cups: {cup:5.0f}\")"
   ]
  },
  {
   "cell_type": "markdown",
   "metadata": {},
   "source": [
    "## Fit and plot graph on screen:"
   ]
  },
  {
   "cell_type": "code",
   "execution_count": 7,
   "metadata": {
    "lines_to_next_cell": 2
   },
   "outputs": [
    {
     "name": "stdout",
     "output_type": "stream",
     "text": [
      "Simple fit\n",
      "Fit value: p0 = 28086.87440 +/- 98.63570\n",
      "Fit value: p1 = 24.60890 +/- 1.19618\n"
     ]
    }
   ],
   "source": [
    "# Define the relevant range:\n",
    "xmin, xmax = 60, 105\n",
    "mask_range = (xmin < days) & (days < xmax)\n",
    "\n",
    "# Fit the data points in the range (xmin, xmax)\n",
    "chi2_object_coffee = Chi2Regression(func_coffee_simple, days[mask_range], cups[mask_range], ecups[mask_range])\n",
    "minuit_coffee = Minuit(chi2_object_coffee, pedantic=False, p0=28000.0, p1=20.0)\n",
    "minuit_coffee.migrad();\n",
    "p0, p1 = minuit_coffee.args\n",
    "\n",
    "print(\"Simple fit\")\n",
    "for name in minuit_coffee.parameters:\n",
    "    print(\"Fit value: {0} = {1:.5f} +/- {2:.5f}\".format(name, minuit_coffee.values[name], minuit_coffee.errors[name]))"
   ]
  },
  {
   "cell_type": "markdown",
   "metadata": {},
   "source": [
    "Plot the data along with the fit on top of the data:"
   ]
  },
  {
   "cell_type": "code",
   "execution_count": 8,
   "metadata": {},
   "outputs": [
    {
     "data": {
      "image/png": "[encoded data removed]",
      "text/plain": [
       "<Figure size 864x576 with 1 Axes>"
      ]
     },
     "metadata": {
      "needs_background": "light"
     },
     "output_type": "display_data"
    }
   ],
   "source": [
    "# Plot the data:\n",
    "fig, ax = plt.subplots(figsize=(12, 8))\n",
    "ax.errorbar(days, cups, xerr=edays, yerr=ecups, fmt='o', label='Data')\n",
    "ax.set(xlim=(-20, 400), xlabel='Days', ylabel='Cups', title='Coffe usage as function of time')\n",
    "\n",
    "# Plot the fit on top:\n",
    "x_fit = np.linspace(xmin, xmax, 1000)\n",
    "y_fit = func_coffee_simple(x_fit, *minuit_coffee.args)\n",
    "ax.plot(x_fit, y_fit, '-', label='Simple Fit')\n",
    "\n",
    "# Get the ChiSquare probability:\n",
    "chi2_lin = minuit_coffee.fval\n",
    "ndof_lin = len(days[mask_range]) - len(minuit_coffee.args)\n",
    "chi2_prob_lin = stats.chi2.sf(chi2_lin, ndof_lin)\n",
    "\n",
    "# Include fit results in the plot:\n",
    "d = {'Chi2': chi2_lin,\n",
    "     'Ndof': ndof_lin,\n",
    "     'Prob': chi2_prob_lin,\n",
    "     'p0': [minuit_coffee.values['p0'], minuit_coffee.errors['p0']],\n",
    "     'p1': [minuit_coffee.values['p1'], minuit_coffee.errors['p1']],\n",
    "    }\n",
    "\n",
    "text = nice_string_output(d, extra_spacing=2, decimals=3)\n",
    "add_text_to_ax(0.02, 0.97, text, ax, fontsize=14);"
   ]
  },
  {
   "cell_type": "markdown",
   "metadata": {},
   "source": [
    "## Advanced fit:\n",
    "Try to fit the advanced function in the range (-10, 110):"
   ]
  },
  {
   "cell_type": "code",
   "execution_count": 9,
   "metadata": {},
   "outputs": [
    {
     "name": "stdout",
     "output_type": "stream",
     "text": [
      "Advanced fit\n",
      "Fit value: p0 = 28457.62137 +/- 18.41001\n",
      "Fit value: p1 = 24.88613 +/- 0.80069\n",
      "Fit value: p2 = 15.80558 +/- 1.74449\n",
      "Probability of the advanced fit: 0.42\n"
     ]
    }
   ],
   "source": [
    "xmin, xmax = -10, 110\n",
    "mask_range = (xmin < days) & (days < xmax)\n",
    "\n",
    "# fit the data points in the range (xmin, xmax)\n",
    "chi2_object_coffee2 = Chi2Regression(func_coffee_advanced, days[mask_range], cups[mask_range], ecups[mask_range])\n",
    "minuit_coffee2 = Minuit(chi2_object_coffee2, pedantic=False, p0=28500, p1=25, p2=14.0)\n",
    "minuit_coffee2.migrad();\n",
    "\n",
    "p0, p1, p2 = minuit_coffee2.args\n",
    "print(\"Advanced fit\")\n",
    "for name in minuit_coffee2.parameters:\n",
    "    print(\"Fit value: {0} = {1:.5f} +/- {2:.5f}\".format(name, minuit_coffee2.values[name], minuit_coffee2.errors[name]))\n",
    "    \n",
    "# Get the ChiSquare probability:\n",
    "chi2_advanced = minuit_coffee2.fval\n",
    "ndof_advanced = len(days[mask_range]) - len(minuit_coffee2.args)\n",
    "chi2_prob_advanced = stats.chi2.sf(chi2_advanced, ndof_advanced)\n",
    "print(f\"Probability of the advanced fit: {chi2_prob_advanced:.2f}\")"
   ]
  },
  {
   "cell_type": "markdown",
   "metadata": {},
   "source": [
    "and plot the advanced fit:"
   ]
  },
  {
   "cell_type": "code",
   "execution_count": 10,
   "metadata": {},
   "outputs": [
    {
     "data": {
      "image/png": "[encoded data removed]",
      "text/plain": [
       "<Figure size 864x576 with 1 Axes>"
      ]
     },
     "metadata": {
      "needs_background": "light"
     },
     "output_type": "display_data"
    }
   ],
   "source": [
    "# Plot the data:\n",
    "fig2, ax2 = plt.subplots(figsize=(12, 8))\n",
    "ax2.errorbar(days, cups, xerr=edays, yerr=ecups, fmt='o', label='Data')\n",
    "ax2.set(xlim=(-20, 400), xlabel='Days', ylabel='Cups', title='Coffe usage as function of time')\n",
    "\n",
    "x_fit = np.linspace(xmin, xmax, 1000)\n",
    "y_fit = func_coffee_advanced_vec(x_fit, *minuit_coffee2.args)\n",
    "ax2.plot(x_fit, y_fit, '-', label='Advanced Fit')\n",
    "\n",
    "# Include fit results in the plot:\n",
    "d = {'Chi2': chi2_advanced,\n",
    "     'Ndof': ndof_advanced,\n",
    "     'Prob': chi2_prob_advanced,\n",
    "     'p0': [minuit_coffee2.values['p0'], minuit_coffee2.errors['p0']],\n",
    "     'p1': [minuit_coffee2.values['p1'], minuit_coffee2.errors['p1']],\n",
    "     'p2': [minuit_coffee2.values['p2'], minuit_coffee2.errors['p2']],\n",
    "    }\n",
    "\n",
    "text = nice_string_output(d, extra_spacing=2, decimals=3)\n",
    "add_text_to_ax(0.02, 0.97, text, ax2, fontsize=14);\n",
    "\n"
   ]
  },
  {
   "cell_type": "code",
   "execution_count": 11,
   "metadata": {},
   "outputs": [
    {
     "name": "stdout",
     "output_type": "stream",
     "text": [
      "\n",
      "\n",
      "The fitted effective vacation length was: 15.8 +- 1.7 days!\n",
      "\n"
     ]
    }
   ],
   "source": [
    "print(f\"\\n\\nThe fitted effective vacation length was: {minuit_coffee2.values['p2']:4.1f} +- {minuit_coffee2.errors['p2']:3.1f} days!\\n\")"
   ]
  },
  {
   "cell_type": "markdown",
   "metadata": {},
   "source": [
    "### An example of a very simple estimate for the comissioning and decomisioning date of the coffee machine"
   ]
  },
  {
   "cell_type": "code",
   "execution_count": 12,
   "metadata": {},
   "outputs": [
    {
     "name": "stdout",
     "output_type": "stream",
     "text": [
      "Simple fit for the whole data range:\n",
      "Fit value: x_start = -1077.84323 +/- 100.64898\n",
      "Fit value: x_end = 877.84323 +/- 100.64898\n",
      " \n",
      "Rough estimate of commissioning year:  2006.9\n",
      "Rough estimate of decommissioning year:  2012.3\n"
     ]
    }
   ],
   "source": [
    "# Define a new fitting function, that has x_start and x_end as input (using y = ax + b).\n",
    "# (We use the start and end days of the coffee machine now, as we're interested in their uncertainties)\n",
    "def func_coffee3(x, x_start, x_end): \n",
    "    return 36716 / (x_end - x_start) * x + 28479\n",
    "\n",
    "# Now we fit this model throughout the full data range\n",
    "chi2_object_coffee3 = Chi2Regression(func_coffee3, days, cups, ecups)\n",
    "minuit_coffee3 = Minuit(chi2_object_coffee3, pedantic=False, x_start=-600, x_end=400)\n",
    "minuit_coffee3.migrad();\n",
    "x_start, x_end = minuit_coffee3.args\n",
    "\n",
    "print(\"Simple fit for the whole data range:\")\n",
    "for name in minuit_coffee3.parameters:\n",
    "    print(\"Fit value: {0} = {1:.5f} +/- {2:.5f}\".format(name, minuit_coffee3.values[name], minuit_coffee3.errors[name]))\n",
    "    \n",
    "# In years:\n",
    "print(\" \")\n",
    "print(f\"Rough estimate of commissioning year: {2009.9 + (x_start / 365): .1f}\")\n",
    "print(f\"Rough estimate of decommissioning year: {2009.9 + (x_end / 365): .1f}\")"
   ]
  },
  {
   "cell_type": "markdown",
   "metadata": {},
   "source": [
    "# Questions:\n",
    "\n",
    "1. Assuming the error of 30 cups, do the numbers follow the hypothesis of constant use? Quantify this, and find out how large the error has to be, for this hypothesis to be credible.\n",
    "\n",
    "_Example solution 1_: For the range of 60 to 105 days, the probability that the numbers follow the hypothesis of constant use is 10%. Depending on where you put your significance threshold, this is probably not enough to discard the constant use hypothesis. When we change the estimated error to 40 cups, the probability of the null hypothesis increases to 27%.\n",
    "\n",
    "2. Consider only the data from the first 100 days(*). Does taking into account Christmas vacations improve the above hypothesis? Can you actually fit the length of vacation? Try to rewrite the function \"func_coffee\", such that it includes an \"if\", dividing the function into two linear functions with the same slope, that has an interval with no usage (i.e. the Christmas vacation).\n",
    "\n",
    "_Example solution 2_: The new advanced function that takes the Christmas holiday into account definitely improves the fit, with a new p-value of 0.42 for an estimated error of 30 cups. The fit also yields an estimate for the vacation length: 15.8 +/- 1.7 days. Since we know the Christmas holiday is 2 school weeks and 3 weekends, this is an imporessively accurate estimate!\n",
    "\n",
    "3. The total number of cups of coffey ever brewed was 36716, after which the old coffey machine was decommissioned. From the above data, estimate when this happened (including error!). And when would you estimate that the coffey machine was commissioned originally?\n",
    "\n",
    "_Example solution 3_: See example above. This example uses a very simple fitting function, a straight line. You can probably do better! One way of obtaining easy estimates of the uncertainties is to define your fit function in terms of the parameters you want to obtain. In this case, the fit function takes x_start (the commissioning date of the coffee machine, in number of days before 4/11/2009) and x_end (the decommissioning date of the coffee machine, in days after 4/11/2009) as input parameters. Minuit will optimise these parameters and return immediately their corresponding uncertainties. Another option is to propagate the uncertainties of the parameters p0 and p1, if you use those for the fit.\n",
    "\n",
    "This approach gives an estimate of November 2006 as the commissioning date, and April 2012 as decommissioning date, both with an uncertainty of around 100 days. This is a very rough estimate indeed, also taken into account the sparse amount of data points, and the true dates are not within the calculated uncertainties.\n",
    "\n",
    "\n",
    "(*) You can do this, by defining the function range to be 0-100!\n",
    "\n",
    "***\n",
    "\n",
    "## Key questions:\n",
    "\n",
    "- What is the probability that the first 50 days follow a constant usage, assuming the uncertainty of 30 days to be correct?\n",
    "- How long did you estimate the Christmas vacation to be (including uncertainty)?\n",
    "- When was the machine commissioned and decommissioned (including uncertainty)?"
   ]
  },
  {
   "cell_type": "markdown",
   "metadata": {},
   "source": [
    "The original commissioning of the machine was around July 2005 with an uncertainty of around 2 months (source: Esben Klinkby). The new machine commissioning (and thus decommissioning of the old one was on the 15th of March 2011."
   ]
  }
 ],
 "metadata": {
  "executable": "/usr/bin/env python",
  "kernelspec": {
   "display_name": "Python 3",
   "language": "python",
   "name": "python3"
  },
  "language_info": {
   "codemirror_mode": {
    "name": "ipython",
    "version": 3
   },
   "file_extension": ".py",
   "mimetype": "text/x-python",
   "name": "python",
   "nbconvert_exporter": "python",
   "pygments_lexer": "ipython3",
   "version": "3.7.1"
  },
  "main_language": "python"
 },
 "nbformat": 4,
 "nbformat_minor": 2
}
