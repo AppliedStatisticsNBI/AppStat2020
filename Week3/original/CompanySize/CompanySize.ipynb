{
 "cells": [
  {
   "cell_type": "markdown",
   "metadata": {},
   "source": [
    "# Fitting distribution of workplace size\n",
    "\n",
    "This is an exercise on fitting real, in this case the distribution of company sizes in Denmark (in terms of FTE workers). This distribution was used in relation to Covid-19 modelling, but is in itself interresting.\n",
    "\n",
    "You only need to consider the first two columns (size and frequency), as the rest is just derived from there.\n",
    "\n",
    "NOTE: When extracting data from Statistics Denmark (DK: Danmarks Statistik), bins with less than 5 entries are by law not allowed to be revealed (to protect from ability to single out persons/companies), and are shown as NaN (Not a Number).\n",
    "\n",
    "### Authors\n",
    "Troels C. Petersen (NBI, petersen@nbi.dk)\n",
    "\n",
    "### Date\n",
    "First version:   4. Oct. 2020 by Troels Petersen\n",
    "\n",
    "Latest version: 26. Nov. 2020 by Nikki Arendse (notebook version)\n",
    "\n",
    "### References\n",
    "Data from Statistics Denmark (contact: Laust Hvas Mortensen)"
   ]
  },
  {
   "cell_type": "code",
   "execution_count": 1,
   "metadata": {},
   "outputs": [],
   "source": [
    "from __future__ import division, print_function\n",
    "\n",
    "import sys\n",
    "import numpy as np\n",
    "import matplotlib.pyplot as plt\n",
    "# import seaborn as sns\n",
    "from iminuit import Minuit\n",
    "from scipy import stats\n",
    "import pandas as pd\n",
    "from scipy import interpolate\n",
    "\n",
    "sys.path.append('../../../External_Functions')\n",
    "from ExternalFunctions import UnbinnedLH, Chi2Regression\n",
    "from ExternalFunctions import nice_string_output, add_text_to_ax"
   ]
  },
  {
   "cell_type": "code",
   "execution_count": 2,
   "metadata": {},
   "outputs": [],
   "source": [
    "save_plots = False   # For now, don't save plots (once you trust your code, switch on)\n",
    "verbose = True       # For now, print a lot of output (once you trust your code, switch off)\n",
    "Nverbose = 10        # But only print a lot for the first 10 random numbers"
   ]
  },
  {
   "cell_type": "markdown",
   "metadata": {},
   "source": [
    "### Load data"
   ]
  },
  {
   "cell_type": "code",
   "execution_count": 3,
   "metadata": {},
   "outputs": [
    {
     "name": "stdout",
     "output_type": "stream",
     "text": [
      "        Frequency  Percent  Cumulative  Frequency.1  Cumulative.1  Percent.1\n",
      "ANTNOV                                                                      \n",
      "0         20696.0     9.29       20696         9.29           NaN        NaN\n",
      "1         52418.0    23.52       73114        32.80           NaN        NaN\n",
      "2         27431.0    12.31      100545        45.11           NaN        NaN\n",
      "3         17242.0     7.74      117787        52.84           NaN        NaN\n",
      "4         13090.0     5.87      130877        58.72           NaN        NaN\n",
      "5         10325.0     4.63      141202        63.35           NaN        NaN\n",
      "6          8465.0     3.80      149667        67.15           NaN        NaN\n",
      "7          6891.0     3.09      156558        70.24           NaN        NaN\n",
      "8          5841.0     2.62      162399        72.86           NaN        NaN\n",
      "9          4816.0     2.16      167215        75.02           NaN        NaN\n",
      "...\n",
      "        Frequency  Percent  Cumulative  Frequency.1  Cumulative.1  Percent.1\n",
      "ANTNOV                                                                      \n",
      "1200         12.0     0.01      222812        99.96           NaN        NaN\n",
      "1300          8.0     0.00      222820        99.97           NaN        NaN\n",
      "1400         11.0     0.00      222831        99.97           NaN        NaN\n",
      "1500          5.0     0.00      222836        99.97           NaN        NaN\n",
      "1600          NaN     0.00      222839        99.97           NaN        NaN\n",
      "1700          7.0     0.00      222846        99.98           NaN        NaN\n",
      "1800          7.0     0.00      222853        99.98           NaN        NaN\n",
      "1900          5.0     0.00      222858        99.98           NaN        NaN\n",
      "2000         22.0     0.01      222880        99.99           NaN        NaN\n",
      "3000         16.0     0.01      222896       100.00           NaN        NaN\n"
     ]
    }
   ],
   "source": [
    "data_test = pd.read_csv(\"TableData_Denmark2020.txt\", header=0, sep=' ', index_col=0)\n",
    "\n",
    "print(data_test.head(10))\n",
    "print(\"...\")\n",
    "print(data_test.tail(10))\n",
    "\n",
    "# Two 1D arrays:\n",
    "Nworkers = np.arange(1, 200)\n",
    "Ncompanies = data_test[\"Frequency\"].iloc[1:200].values  # \"values\" yields numpy arrays, while nothing gives a Pandas series\n",
    "eNcompanies = np.ones(200)         # NOT CORRECT - what uncertainty to assign here?\n",
    "\n",
    "minPlot = 1\n",
    "maxPlot = 100\n"
   ]
  },
  {
   "cell_type": "markdown",
   "metadata": {},
   "source": [
    "### Plotting the size distribution of companies"
   ]
  },
  {
   "cell_type": "code",
   "execution_count": 4,
   "metadata": {},
   "outputs": [
    {
     "data": {
      "image/png": "[encoded data removed]",
      "text/plain": [
       "<Figure size 864x504 with 1 Axes>"
      ]
     },
     "metadata": {
      "needs_background": "light"
     },
     "output_type": "display_data"
    }
   ],
   "source": [
    "# Number of companies with a given size as a function of size:\n",
    "fig_Ncompanies, ax_Ncompanies = plt.subplots(figsize=(12, 7))\n",
    "ax_Ncompanies.set(xlabel=\"Size of company (in FTE)\", ylabel=\"Number of companies\", title=\"\")\n",
    "ax_Ncompanies.errorbar(Nworkers[minPlot:maxPlot], Ncompanies[minPlot:maxPlot], yerr=eNcompanies[minPlot:maxPlot], fmt='.', linewidth=2,\n",
    "                  label='Data (2020)', color='blue')\n",
    "ax_Ncompanies.legend(fontsize=16) #loc=(0.05, 0.75))\n",
    "\n",
    "plt.yscale('log')\n",
    "plt.tight_layout()\n",
    "plt.show(block=False)\n",
    "\n",
    "if (save_plots):\n",
    "    plt.savefig(\"fig_DistNcompanies.pdf\")"
   ]
  },
  {
   "cell_type": "markdown",
   "metadata": {},
   "source": [
    "## Models\n",
    "\n",
    "What is the best model for this distribution? Try the below models, and make better alternatives yourself."
   ]
  },
  {
   "cell_type": "code",
   "execution_count": 5,
   "metadata": {},
   "outputs": [],
   "source": [
    "# Power Law model:\n",
    "def func_PowerLaw(x, N, alpha):\n",
    "    return N * x ** (-alpha)\n",
    "\n",
    "func_PowerLaw_vec = np.vectorize(func_PowerLaw)"
   ]
  },
  {
   "cell_type": "code",
   "execution_count": 6,
   "metadata": {},
   "outputs": [],
   "source": [
    "# Exponential model:\n",
    "def func_Exponential(x, N, alpha):\n",
    "    return N * np.exp(-alpha * x)\n",
    "\n",
    "func_Exponential_vec = np.vectorize(func_Exponential)"
   ]
  },
  {
   "cell_type": "markdown",
   "metadata": {},
   "source": [
    "### Fit to data with Power Law"
   ]
  },
  {
   "cell_type": "code",
   "execution_count": 10,
   "metadata": {},
   "outputs": [
    {
     "name": "stdout",
     "output_type": "stream",
     "text": [
      "\n",
      "  ------------------------------------  Fitting Stage  --------------------------------------- \n",
      "\n",
      "Fit value (exp): N = 66353.81880 +/- 3.27958\n",
      "Fit value (exp): alpha = 1.22597 +/- 0.00004\n",
      "  Model fit:  Prob(Chi2=11154885.8, Ndof=197) = 0.00000\n"
     ]
    },
    {
     "data": {
      "image/png": "[encoded data removed]",
      "text/plain": [
       "<Figure size 864x504 with 1 Axes>"
      ]
     },
     "metadata": {
      "needs_background": "light"
     },
     "output_type": "display_data"
    }
   ],
   "source": [
    "print(\"\\n  ------------------------------------  Fitting Stage  --------------------------------------- \\n\")\n",
    "\n",
    "minFit = 1\n",
    "maxFit = 100\n",
    "\n",
    "# Plot data points again\n",
    "fig_fit, ax_fit = plt.subplots(figsize=(12, 7))\n",
    "ax_fit.errorbar(Nworkers[minPlot:maxPlot], Ncompanies[minPlot:maxPlot], yerr=eNcompanies[minPlot:maxPlot], fmt='.', linewidth=2,\n",
    "                color=\"blue\", label='Data (2020)')\n",
    "ax_fit.set(xlabel=\"Size of company (in FTE)\", ylabel=\"Number of companies\", title=\"\")\n",
    "\n",
    "\n",
    "# Power Law fit:\n",
    "# --------------\n",
    "def ChiSquarePowerLaw(N, alpha):\n",
    "    Ncompanies_est = func_PowerLaw(Nworkers[minFit:maxFit], N, alpha)\n",
    "    chi2 = np.sum(((Ncompanies[minFit:maxFit] - Ncompanies_est) / eNcompanies[minFit:maxFit]) ** 2)\n",
    "    return chi2\n",
    "\n",
    "minuit = Minuit(ChiSquarePowerLaw, pedantic=False, print_level=0, N=50000.0, alpha=2.0)\n",
    "minuit.migrad();\n",
    "if (not minuit.fmin.is_valid):\n",
    "    print(\"  WARNING: The ChiSquare fit DID NOT converge!!! \")\n",
    "\n",
    "for name in minuit.parameters:\n",
    "    print(\"Fit value (exp): {0} = {1:.5f} +/- {2:.5f}\".format(name, minuit.values[name], minuit.errors[name]))\n",
    "chi2 = minuit.fmin.fval\n",
    "Ndof = len(Ncompanies) - len(minuit.args)\n",
    "Prob = stats.chi2.sf(chi2, Ndof)\n",
    "print(f\"  Model fit:  Prob(Chi2={chi2:6.1f}, Ndof={Ndof:3d}) = {Prob:7.5f}\")\n",
    "\n",
    "N_fit, alpha_fit = minuit.values.values()  # Same as minuit_SIR.args\n",
    "eN_fit, ealpha_fit = minuit.errors.values()\n",
    "ax_fit.plot(Nworkers[minFit:maxFit], func_PowerLaw_vec(Nworkers[minFit:maxFit], N_fit, alpha_fit), 'red', linewidth=2.0,\n",
    "            label=f'Fit with Power Law (Chi2 = {chi2:6.1f})')\n",
    "ax_fit.legend(fontsize=16);"
   ]
  },
  {
   "cell_type": "code",
   "execution_count": 8,
   "metadata": {},
   "outputs": [],
   "source": [
    "if (save_plots):\n",
    "    plt.savefig(\"fig_NworkersInDKcompanies_Fit.pdf\")"
   ]
  },
  {
   "cell_type": "markdown",
   "metadata": {},
   "source": [
    "# Questions\n",
    "\n",
    "1. Try to fit the data (in the range 1-100) with a power law, an exponential, and a combination of the two. Are you satisfied with the results?\n",
    "2. Can you think of any other function that would fit throught the data better? Try to expand on the functions by adding more complexity and parameters, and see how well you can do. Do you manage to reach a \"good\" model, and how would you define one such?\n",
    "3. From a \"good\" fit, try to predict how many companies there are with 101-150 employes. Compare this number to the data, and see how well you manage."
   ]
  },
  {
   "cell_type": "code",
   "execution_count": null,
   "metadata": {},
   "outputs": [],
   "source": []
  }
 ],
 "metadata": {
  "kernelspec": {
   "display_name": "Python 3",
   "language": "python",
   "name": "python3"
  },
  "language_info": {
   "codemirror_mode": {
    "name": "ipython",
    "version": 3
   },
   "file_extension": ".py",
   "mimetype": "text/x-python",
   "name": "python",
   "nbconvert_exporter": "python",
   "pygments_lexer": "ipython3",
   "version": "3.7.6"
  }
 },
 "nbformat": 4,
 "nbformat_minor": 4
}
