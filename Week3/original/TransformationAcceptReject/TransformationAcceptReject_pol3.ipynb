{
 "cells": [
  {
   "cell_type": "markdown",
   "metadata": {},
   "source": [
    "# The Transformation and Accept/Reject (aka. Von Neumann) methods \n",
    "\n",
    "### Authors: \n",
    "- Troels C. Petersen (Niels Bohr Institute)\n",
    "\n",
    "### Date:    \n",
    "- 24-11-2020 (latest update)\n",
    "***\n",
    "\n",
    "Python notebook with exercise on how to generate random numbers following a specific PDF using uniformly distributed random numbers, in this case a third degree polynomial: $f(x) = x^3$, in the interval $[0, C]$ where $C$ is a number that ensures that the function if properly normalized.\n",
    "\n",
    "Both the Accept-Reject (Von Neumann) and transformation method should be considered for the problem:\n",
    "- Transformation method (if function can be integrated and then inverted).\n",
    "- Accept-Reject (or Hit & Miss) method (by Ulam Stanislav and John Von Neumann).\n",
    "\n",
    "For more information see:\n",
    "- G. Cowan: Chapter 3\n",
    "- P. R. Bevington: page 81-84\n",
    "- __[40. Monte Carlo Techniques PDG](http://pdg.lbl.gov/2018/reviews/rpp2018-rev-monte-carlo-techniques.pdf)__"
   ]
  },
  {
   "cell_type": "code",
   "execution_count": 1,
   "metadata": {},
   "outputs": [],
   "source": [
    "import numpy as np                                     # Matlab like syntax for linear algebra and functions\n",
    "import matplotlib.pyplot as plt                        # Plots and figures like you know them from Matlab\n",
    "import seaborn as sns                                  # Make the plots nicer to look at\n",
    "from iminuit import Minuit                             # The actual fitting tool, better than scipy's\n",
    "import sys                                             # Modules to see files and folders in directories\n",
    "from scipy import stats"
   ]
  },
  {
   "cell_type": "markdown",
   "metadata": {},
   "source": [
    "Load external functions:"
   ]
  },
  {
   "cell_type": "code",
   "execution_count": 2,
   "metadata": {},
   "outputs": [],
   "source": [
    "sys.path.append('../../../External_Functions')\n",
    "from ExternalFunctions import Chi2Regression, BinnedLH, UnbinnedLH\n",
    "from ExternalFunctions import nice_string_output, add_text_to_ax    # Useful functions to print fit results on figure\n",
    "\n",
    "plt.rcParams['font.size'] = 18     # Set some basic plotting parameters"
   ]
  },
  {
   "cell_type": "markdown",
   "metadata": {},
   "source": [
    "set the parameters of the program:"
   ]
  },
  {
   "cell_type": "code",
   "execution_count": 3,
   "metadata": {},
   "outputs": [],
   "source": [
    "r = np.random\n",
    "r.seed(42)\n",
    "\n",
    "save_plots = False  \n",
    "N_points = 10000      # Number of random points used \n",
    "\n",
    "xmin = 0\n",
    "xmax = 1.0            # Find out yourself what a good interval is.\n",
    "N_bins = 100          # Find out yourself what a good number of bins is.\n",
    "\n",
    "# f(x):\n",
    "def fx_x3(x) :\n",
    "    return x^3"
   ]
  },
  {
   "cell_type": "code",
   "execution_count": 4,
   "metadata": {},
   "outputs": [],
   "source": [
    "# Define the numpy arrays to be filled:\n",
    "x_transformation = np.zeros(N_points)\n",
    "x_accepted       = np.zeros(N_points)"
   ]
  },
  {
   "cell_type": "markdown",
   "metadata": {},
   "source": [
    "## Problem: \n",
    "\n",
    "1) Calculate $C$ such that f(x) is normalised [Analytical problem].\n",
    "\n",
    "2) Calculate the relevant integral and inverted function for using the transformation method. Check that the limits actually makes sense [Analytical problem]. Note that it is important to include the limits!\n",
    "\n",
    "3) Produce random points following $f(x) = x^3$, in the interval $[0, C]$ using both the Transformation and the Accept/Reject method.\n",
    "\n",
    "4) Fit your data with a third degree polynomial, and check that the coefficients correspond to what you would expect.\n",
    "\n",
    "5) Now try to change the interval from [0,C] to [1,C], and see how the limits change."
   ]
  }
 ],
 "metadata": {
  "executable": "/usr/bin/env python",
  "kernelspec": {
   "display_name": "Python 3",
   "language": "python",
   "name": "python3"
  },
  "language_info": {
   "codemirror_mode": {
    "name": "ipython",
    "version": 3
   },
   "file_extension": ".py",
   "mimetype": "text/x-python",
   "name": "python",
   "nbconvert_exporter": "python",
   "pygments_lexer": "ipython3",
   "version": "3.7.6"
  },
  "main_language": "python"
 },
 "nbformat": 4,
 "nbformat_minor": 2
}
