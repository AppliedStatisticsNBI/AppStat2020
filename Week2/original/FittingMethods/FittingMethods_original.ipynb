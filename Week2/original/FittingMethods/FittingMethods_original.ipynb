{
 "cells": [
  {
   "cell_type": "markdown",
   "metadata": {},
   "source": [
    "# Fitting with ChiSquare, Binned Likelihood, and Unbinned Likelihood\n",
    "\n",
    "This is an introduction to likelihood fits, both binned and unbinned, trying to show the following points:\n",
    "1. How likelihood fits work, both binned and unbinned.\n",
    "2. When to use which type of fits, also including ChiSquare.\n",
    "3. See how the amount of statistics influences the above choice.\n",
    "\n",
    "Comparisons are naturally done with the ChiSquare. Also, this program serves as an introduction to fitting with iMinuit.\n",
    "\n",
    "The exercise is made to play around with the (statistics of) the signal and background distributions, so that you can get a feel for the advantages and drawbacks of each method... and make sure that you feel comfortable in applying all three.\n",
    "\n",
    "\n",
    "### Authors: \n",
    "- Troels C. Petersen (Niels Bohr Institute)\n",
    "- Étienne Bourbeau (Niels Bohr Institute)\n",
    "\n",
    "### Date:    \n",
    "- 21-11-2020 (latest update)\n",
    "\n",
    "### References:\n",
    "- Barlow: 5.3 + 5.4 + 5.6\n",
    "- Bevington: Chapter 10\n",
    "\n",
    "***"
   ]
  },
  {
   "cell_type": "code",
   "execution_count": 1,
   "metadata": {},
   "outputs": [],
   "source": [
    "import numpy as np                                     # Matlab like syntax for linear algebra and functions\n",
    "import matplotlib.pyplot as plt                        # Plots and figures like you know them from Matlab\n",
    "import seaborn as sns                                  # Make the plots nicer to look at\n",
    "from iminuit import Minuit                             # The actual fitting tool, better than scipy's\n",
    "import sys                                             # Module to see files and folders in directories\n",
    "from scipy import stats"
   ]
  },
  {
   "cell_type": "code",
   "execution_count": 2,
   "metadata": {},
   "outputs": [],
   "source": [
    "sys.path.append('../../../External_Functions')\n",
    "from ExternalFunctions import UnbinnedLH, BinnedLH, Chi2Regression\n",
    "from ExternalFunctions import nice_string_output, add_text_to_ax # useful functions to print fit results on figure\n",
    "\n",
    "# In case you want to load function from a jupyter notebook from the current working directory, you can use the function below:\n",
    "#   from ipynb.fs.full.ExternalFunctions import nice_string_output, add_text_to_ax # useful functions to print fit results on figure"
   ]
  },
  {
   "cell_type": "markdown",
   "metadata": {},
   "source": [
    "Below are some of the general program settings, which are good to have in one place:"
   ]
  },
  {
   "cell_type": "code",
   "execution_count": 3,
   "metadata": {},
   "outputs": [],
   "source": [
    "r = np.random # Random generator\n",
    "r.seed(42)    # Set a random seed (but a fixed one)\n",
    "\n",
    "save_plots = False # For now, don't save plots (once you trust your code, switch on)\n",
    "verbose = True     # For now, print a lot of output (once you trust your code, switch off)\n",
    "Nverbose = 10      # But only print a lot for the first 10 random numbers"
   ]
  },
  {
   "cell_type": "markdown",
   "metadata": {},
   "source": [
    "## Create the data:\n",
    "\n",
    "We create some data with a signal peak on an exponential background:"
   ]
  },
  {
   "cell_type": "code",
   "execution_count": 4,
   "metadata": {},
   "outputs": [
    {
     "name": "stdout",
     "output_type": "stream",
     "text": [
      "[3.27411282 3.10266864 3.31487591 ... 0.7705041  4.05139454 4.26148115]\n"
     ]
    }
   ],
   "source": [
    "Npeak = 1000     # Number of random Gaussian points\n",
    "Nexp  = 5000     # Number of random Exponential points\n",
    "\n",
    "x_peak = r.normal(loc=3.14, scale=0.27, size=Npeak)\n",
    "x_exp  = r.exponential(2.0, Nexp)\n",
    "x_all = np.concatenate((x_peak, x_exp), axis=0)\n",
    "if (verbose) :\n",
    "    print(x_all)"
   ]
  },
  {
   "cell_type": "markdown",
   "metadata": {},
   "source": [
    "## Histogram of data:\n",
    "\n",
    "Since we are considering both ChiSquare (chi2) and Binned Likelihood (bllh), we start with the histogram, which is the input for both of these. Of course, the Unbinned Likelihood (ullh) doesn't care about binning!\n",
    "\n",
    "### Note on binning:\n",
    "It is very important to specify - in a well thought manner - the range and binning to use. Many problems could have been avoided by a few minutes (or even seconds!) of consideration from the beginning. "
   ]
  },
  {
   "cell_type": "code",
   "execution_count": 5,
   "metadata": {
    "lines_to_next_cell": 2
   },
   "outputs": [],
   "source": [
    "# General input:\n",
    "Nbins = 100\n",
    "xmin, xmax = 0, 10\n",
    "binwidth = (xmax-xmin)/Nbins"
   ]
  },
  {
   "cell_type": "code",
   "execution_count": 6,
   "metadata": {},
   "outputs": [
    {
     "data": {
      "image/png": "[encoded data removed]",
      "text/plain": [
       "<Figure size 864x432 with 1 Axes>"
      ]
     },
     "metadata": {
      "needs_background": "light"
     },
     "output_type": "display_data"
    }
   ],
   "source": [
    "# Create just a single figure and axes\n",
    "fig, ax = plt.subplots(figsize=(12, 6))  # figsize is in inches\n",
    "\n",
    "# Create a (classic) histogram:\n",
    "hist = ax.hist(x_all, bins=Nbins, range=(xmin, xmax), histtype='step', linewidth=2, color='red', label='Data, normal histogram')\n",
    "\n",
    "# Find the x, y and error on y (sy) given the histogram:\n",
    "counts, bin_edges = np.histogram(x_all, bins=Nbins, range=(xmin, xmax))\n",
    "x = (bin_edges[1:] + bin_edges[:-1])/2\n",
    "y = counts\n",
    "sy = np.sqrt(counts)                         # NOTE: We (naturally) assume that the bin count is Poisson distributed.\n",
    "# Now create a histogram with uncertainties (better, I would argue):\n",
    "ax.errorbar(x, y, yerr=sy, xerr=0.0, label='Data, with Poisson errors', fmt='.k',  ecolor='k', elinewidth=1, capsize=1, capthick=1)\n",
    "\n",
    "# Set the figure texts; xlabel, ylabel and title.\n",
    "ax.set(xlabel=\"Random numbers\", # the label of the y axis\n",
    "       ylabel=\"Frequency\",  # the label of the y axis\n",
    "       title=\"Distribution of Gaussian and exponential numbers\") # the title of the plot\n",
    "ax.legend(loc='best'); # could also be # loc = 'upper right' e.g."
   ]
  },
  {
   "cell_type": "markdown",
   "metadata": {},
   "source": [
    "## Fit to the data / histogram (1D):\n",
    "\n",
    "Having created the data, we now want to fit the distributions in three ways:\n",
    "1. ChiSquare fit\n",
    "2. Binned Likelihood fit\n",
    "3. Unbinned Likelihood fit\n",
    "\n",
    "We first define the function to be fitted with, a Gaussian and and Exponential PDF in this case:"
   ]
  },
  {
   "cell_type": "code",
   "execution_count": 7,
   "metadata": {},
   "outputs": [],
   "source": [
    "# Define background PDF:\n",
    "def exp_pdf(x, tau):\n",
    "    \"\"\"Exponential with lifetime tau\"\"\"\n",
    "    return 1.0 / tau * np.exp(-x/tau)"
   ]
  },
  {
   "cell_type": "code",
   "execution_count": 8,
   "metadata": {},
   "outputs": [],
   "source": [
    "# Define signal PDF:\n",
    "def gauss_pdf(x, mu, sigma) :\n",
    "    \"\"\"Gaussian\"\"\"\n",
    "    return 1.0 / np.sqrt(2*np.pi) / sigma * np.exp( -0.5 * (x-mu)**2 / sigma**2)"
   ]
  },
  {
   "cell_type": "code",
   "execution_count": 9,
   "metadata": {},
   "outputs": [],
   "source": [
    "# Define your actual fitting function, with both background and signal in,\n",
    "# which is NOT normalised but has normalisation constants \"N\" in, and includes the bin width:\n",
    "def fit_pdf(x, Nexp, tau, Ngauss, mu, sigma) :\n",
    "    \"\"\"Exponential + Gaussian\"\"\"\n",
    "    return Nexp * binwidth * exp_pdf(x, tau) + Ngauss * binwidth * gauss_pdf(x, mu, sigma)"
   ]
  },
  {
   "cell_type": "markdown",
   "metadata": {},
   "source": [
    "Having defined our fitting function, we now want to make three types of fits:\n",
    "1: A ChiSquare fit.\n",
    "2: A *binned likelihood* fit.\n",
    "3: An *unbinned likelihood* fit.\n",
    "Make sure that you understand the difference between the three.\n",
    "\n",
    "It is important to use the same bins and bounds as the original histogram. In this case we are also treating the number of events/random numbers as being a fit variable which makes this a so-called *extended fit*.\n",
    "***"
   ]
  },
  {
   "cell_type": "markdown",
   "metadata": {},
   "source": [
    "# ChiSquare fit:\n",
    "\n",
    "### Setting up a fit:\n",
    "\n",
    "We initialize our fitting object, `chi2fit`, by using the `Chi2Regression` function from External Functions. You can also define your own Chi2 function (see introduction to plotting and fitting in Week0). This first takes the function to fit as input, then the input data.\n",
    "Following this, we make a Minuit object, i.e. the minimisation itself. This is done using __[iMinuit](https://iminuit.readthedocs.io/en/latest/)__ which is a Python-wrapper for the wonderful minimization tool Minuit developed by CERN. Minuit requires the fitting object (here \"chi2fit\") and then GOOD input values (and possible value uncertainties, ranges, and fixing, etc. - see note below) and fitting options. Finally, we ask Minuit to actually find the minimum, and we have added a check to see, if this converged or not."
   ]
  },
  {
   "cell_type": "code",
   "execution_count": 10,
   "metadata": {
    "scrolled": true
   },
   "outputs": [
    {
     "name": "stdout",
     "output_type": "stream",
     "text": [
      "------------------------------------------------------------------\n",
      "| FCN = 89.96                   |     Ncalls=108 (108 total)     |\n",
      "| EDM = 1.66e-06 (Goal: 0.0002) |            up = 1.0            |\n",
      "------------------------------------------------------------------\n",
      "|  Valid Min.   | Valid Param.  | Above EDM | Reached call limit |\n",
      "------------------------------------------------------------------\n",
      "|     True      |     True      |   False   |       False        |\n",
      "------------------------------------------------------------------\n",
      "| Hesse failed  |   Has cov.    | Accurate  | Pos. def. | Forced |\n",
      "------------------------------------------------------------------\n",
      "|     False     |     True      |   True    |   True    | False  |\n",
      "------------------------------------------------------------------\n"
     ]
    }
   ],
   "source": [
    "chi2fit = Chi2Regression(fit_pdf, x, y, sy)\n",
    "minuit_chi2 = Minuit(chi2fit, Nexp=5000, tau=2.0, Ngauss=1000.0, mu=3.1, sigma=0.3, pedantic=False, print_level=1)\n",
    "minuit_chi2.migrad();\n",
    "\n",
    "if (not minuit_chi2.fmin.is_valid) :\n",
    "    print(\"  WARNING: The ChiSquare fit DID NOT converge!!! \")    "
   ]
  },
  {
   "cell_type": "markdown",
   "metadata": {},
   "source": [
    "#### Extracting fit results:"
   ]
  },
  {
   "cell_type": "code",
   "execution_count": 16,
   "metadata": {},
   "outputs": [
    {
     "name": "stdout",
     "output_type": "stream",
     "text": [
      "Fit value: Nexp = 4867.10003 +/- 77.01033\n",
      "Fit value: tau = 1.89789 +/- 0.03077\n",
      "Fit value: Ngauss = 1037.57446 +/- 44.94147\n",
      "Fit value: mu = 3.15111 +/- 0.01280\n",
      "Fit value: sigma = 0.27389 +/- 0.01193\n",
      "Chi2 value: 90.0   Ndof = 95    Prob(Chi2,Ndof) = 0.627\n"
     ]
    }
   ],
   "source": [
    "# Short hand way of accessing the fit parameters:\n",
    "fit_Ngauss, fit_mu, fit_sigma, fit_Nexp, fit_tau = minuit_chi2.args   # The fitted values of the parameters\n",
    "\n",
    "# Loop to get both parameter values and uncertainties:\n",
    "for name in minuit_chi2.parameters:\n",
    "    value, error = minuit_chi2.values[name], minuit_chi2.errors[name]\n",
    "    print(f\"Fit value: {name} = {value:.5f} +/- {error:.5f}\")\n",
    "\n",
    "# Get Chi2 value:\n",
    "chi2_value = minuit_chi2.fval            # The value minimised, i.e. Chi2 or -2*LogLikeliHood (LLH) value\n",
    "\n",
    "# Get number of degrees-of-freedom (Ndof):\n",
    "N_NotEmptyBin = np.sum(y > 0)\n",
    "Ndof_value = N_NotEmptyBin - minuit_chi2.nfit\n",
    "\n",
    "chi2_prob = stats.chi2.sf(chi2_value, Ndof_value) # The chi2 probability given N_DOF degrees of freedom\n",
    "print(f\"Chi2 value: {chi2_value:.1f}   Ndof = {Ndof_value:.0f}    Prob(Chi2,Ndof) = {chi2_prob:5.3f}\")"
   ]
  },
  {
   "cell_type": "markdown",
   "metadata": {},
   "source": [
    "#### Note on options for Minuit:\n",
    "\n",
    "When defining the minimisation object, we give the fit initial values for `Ngauss`, `mu`, `sigma`, and `Nexp` and `tau`. Also, we disables some automatic warnings that Minuit shows (which are unimportant in most cases) but ask it to print out the details of the minimisation result (but not the parameters).\n",
    "\n",
    "In passing the (crucial) initial parameters, there are a few useful options:\n",
    "1. Giving an uncertainty on the initial value of X, done with the prefix \"error_\" (i.e. \"error_X = uncertainty\").\n",
    "2. Giving a range of allowed values for X, done with the prefix \"limit_\" (i.e. \"limit_X) = (min,max)\").\n",
    "3. Fixing X to a certain value, done with the prefix \"fix_\" (i.e. \"fix_X=True\").\n",
    "\n",
    "In the text below here we show examples of how to implement the above:\n",
    "``` \n",
    "minuit = Minuit(chi2fit, Nexp=5000, tau=2.0, Ngauss=1000.0, mu=3.1, sigma=0.3, pedantic=False, print_level=1,\n",
    "                error_tau = 0.2,       # Tell the fit how certain you are of the initial value for tau\n",
    "                limit_mu = (0,10),     # Set the range for 'mu' to be between 0 and 10\n",
    "                fix_N=True             # fix the value of N to its initial value (here 5000)\n",
    "                )\n",
    "```\n",
    "\n",
    "**Word of warning on parameter limits**: Giving a (reasonable) uncertainty on the input parameter is a help to Minuit, and fixing a parameter generally makes the fit convergence easier (and is a good way to build up and check a complicated fit). However, setting limits can be troublesome, as this results in an internal transformation of variables, which affects both convergence and uncertainty estimates. One should therefore avoid using limits, and if doing it anyway and succeeding, remove them once the fit has converged, given that good initial values are now established."
   ]
  },
  {
   "cell_type": "markdown",
   "metadata": {},
   "source": [
    "# Binned Likelihood fit:\n",
    "\n",
    "Next we try to fit the same data with the same function in a *binned likelihood fit*. Note that the fitting object now takes the x-values themselves (not a histogram), but requires numbers of bins and a range/bound."
   ]
  },
  {
   "cell_type": "code",
   "execution_count": 12,
   "metadata": {},
   "outputs": [
    {
     "name": "stdout",
     "output_type": "stream",
     "text": [
      "------------------------------------------------------------------\n",
      "| FCN = 42.76                   |     Ncalls=253 (253 total)     |\n",
      "| EDM = 2.54e-05 (Goal: 0.0001) |            up = 0.5            |\n",
      "------------------------------------------------------------------\n",
      "|  Valid Min.   | Valid Param.  | Above EDM | Reached call limit |\n",
      "------------------------------------------------------------------\n",
      "|     True      |     True      |   False   |       False        |\n",
      "------------------------------------------------------------------\n",
      "| Hesse failed  |   Has cov.    | Accurate  | Pos. def. | Forced |\n",
      "------------------------------------------------------------------\n",
      "|     False     |     True      |   True    |   True    | False  |\n",
      "------------------------------------------------------------------\n"
     ]
    }
   ],
   "source": [
    "bllhfit = BinnedLH(fit_pdf, x_all, bins=Nbins, bound=(xmin, xmax), extended=True)\n",
    "minuit_bllh = Minuit(bllhfit, Nexp=5000, tau=2.0, Ngauss=1000.0, mu=3.1, sigma=0.3, pedantic=False, print_level=1)\n",
    "minuit_bllh.migrad();          # Perform the actual fit\n",
    "\n",
    "if (not minuit_bllh.fmin.is_valid) :\n",
    "    print(\"  WARNING: The ChiSquare fit DID NOT converge!!! \")    "
   ]
  },
  {
   "cell_type": "markdown",
   "metadata": {},
   "source": [
    "# Unbinned Likelihood fit:\n",
    "\n",
    "For the *unbinned likelihood fit*, the input is again the x-values themselves, and bounds are possible, but no binning is suggested, as this is... well... unbinned."
   ]
  },
  {
   "cell_type": "code",
   "execution_count": 13,
   "metadata": {
    "lines_to_next_cell": 2
   },
   "outputs": [
    {
     "name": "stdout",
     "output_type": "stream",
     "text": [
      "------------------------------------------------------------------\n",
      "| FCN = -3.604e+04              |     Ncalls=282 (282 total)     |\n",
      "| EDM = 4.81e-06 (Goal: 0.0001) |            up = 0.5            |\n",
      "------------------------------------------------------------------\n",
      "|  Valid Min.   | Valid Param.  | Above EDM | Reached call limit |\n",
      "------------------------------------------------------------------\n",
      "|     True      |     True      |   False   |       False        |\n",
      "------------------------------------------------------------------\n",
      "| Hesse failed  |   Has cov.    | Accurate  | Pos. def. | Forced |\n",
      "------------------------------------------------------------------\n",
      "|     False     |     True      |   True    |   True    | False  |\n",
      "------------------------------------------------------------------\n"
     ]
    }
   ],
   "source": [
    "ullhfit = UnbinnedLH(fit_pdf, x_all, bound=(xmin, xmax), extended=True)\n",
    "minuit_ullh = Minuit(ullhfit, Nexp=5000, tau=2.0, Ngauss=1000.0, mu=3.1, sigma=0.3, pedantic=False, print_level=1)\n",
    "minuit_ullh.migrad();          # Perform the actual fit\n",
    "\n",
    "if (not minuit_ullh.fmin.is_valid) :\n",
    "    print(\"  WARNING: The ChiSquare fit DID NOT converge!!! \")    "
   ]
  },
  {
   "cell_type": "markdown",
   "metadata": {},
   "source": [
    "# Questions:\n",
    "\n",
    "1) Start by drawing the three fits on top of the data. Do they (by eye) give the same result, and does the fit generally look \"good\"?\n",
    "\n",
    "2) Now print the fitted values, and see if they all agree within uncertainties.\n",
    "\n",
    "3) To what extend do the three methods give the same results when varying the input parameters, especially when the number of signal and background events is low? I.e. repeat question 1) and 2) for lower statistics cases, for example Ngauss = 10 and Nexp = 50.\n",
    "\n",
    "### Advanced question:\n",
    "\n",
    "4) Knowing the PDFs used for producing the data, try to see, if you can produce a goodness-of-fit measure for the unbinned likelihood fit by repeating this type of fit many times. "
   ]
  }
 ],
 "metadata": {
  "executable": "/usr/bin/env python",
  "kernelspec": {
   "display_name": "Python 3",
   "language": "python",
   "name": "python3"
  },
  "language_info": {
   "codemirror_mode": {
    "name": "ipython",
    "version": 3
   },
   "file_extension": ".py",
   "mimetype": "text/x-python",
   "name": "python",
   "nbconvert_exporter": "python",
   "pygments_lexer": "ipython3",
   "version": "3.7.6"
  },
  "main_language": "python"
 },
 "nbformat": 4,
 "nbformat_minor": 2
}
