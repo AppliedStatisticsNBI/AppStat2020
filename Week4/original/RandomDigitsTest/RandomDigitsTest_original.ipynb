{
 "cells": [
  {
   "cell_type": "markdown",
   "metadata": {},
   "source": [
    "# Random Digits Exercice\n",
    "\n",
    "### Description:\n",
    "This is an exercise in hypothesis testing, specifically determining if a series of digits [0,9] is random or not. In order to determine this, one has to design and apply statistical tests, from which the degree of consistency of being random can be calculated.\n",
    "\n",
    "### Your task:\n",
    "Using tests of your choice/design, determine which of the seven data sets are consistent with being random, and which aren't. One is based on the digits you entered in the course questionaire, while the others range from poor/quasi random to truly random. See if you can determine your (human) dataset.\n",
    "\n",
    "###  Author: \n",
    "Troels Petersen ([email](mailto:petersen@nbi.dk))\n",
    "\n",
    "###  Date:\n",
    "4th of December 2020\n",
    "\n",
    "---"
   ]
  },
  {
   "cell_type": "code",
   "execution_count": 1,
   "metadata": {},
   "outputs": [],
   "source": [
    "import numpy as np\n",
    "import matplotlib as mpl\n",
    "import matplotlib.pyplot as plt\n",
    "from iminuit import Minuit\n",
    "from scipy import stats\n",
    "import os, sys                                         # Modules to see files and folders in directories\n",
    "from os.path import dirname as parent_folder"
   ]
  },
  {
   "cell_type": "code",
   "execution_count": 2,
   "metadata": {},
   "outputs": [],
   "source": [
    "sys.path.append('../../../External_Functions')\n",
    "from ExternalFunctions import Chi2Regression, BinnedLH, UnbinnedLH\n",
    "from ExternalFunctions import nice_string_output, add_text_to_ax    # Useful functions to print fit results on figure"
   ]
  },
  {
   "cell_type": "code",
   "execution_count": 3,
   "metadata": {
    "lines_to_next_cell": 2
   },
   "outputs": [],
   "source": [
    "# Set som plotting standards:\n",
    "font = {'family' : 'serif',\n",
    "        'weight' : 'normal',\n",
    "        'size'   : 18}\n",
    "mpl.rc('font', **font)"
   ]
  },
  {
   "cell_type": "markdown",
   "metadata": {},
   "source": [
    "---\n",
    "## Define your functions here:\n"
   ]
  },
  {
   "cell_type": "code",
   "execution_count": 4,
   "metadata": {
    "lines_to_next_cell": 2
   },
   "outputs": [],
   "source": [
    "# Fill 1d histograms:\n",
    "def create_1d_hist(ax, values, bins, x_range, title):\n",
    "    ax.hist(values, bins, x_range, histtype='step', density=False, lw=2)         \n",
    "    ax.set(xlim=x_range, title=title)\n",
    "    hist_data = np.histogram(values, bins, x_range)\n",
    "    return hist_data"
   ]
  },
  {
   "cell_type": "code",
   "execution_count": 5,
   "metadata": {
    "lines_to_next_cell": 2
   },
   "outputs": [],
   "source": [
    "# Calculate the ChiSquare value for comparison of histogram with constant.\n",
    "# This is not a fit, as there are no free parameters: We know the number of events and bins!\n",
    "def get_chi2_ndf( hist, const):\n",
    "    data = hist[0]\n",
    "    const_unnormed = const * data.sum()\n",
    "    chi2 = np.sum( (data - const_unnormed)**2 / data )\n",
    "    ndof = data.size\n",
    "    return chi2, ndof"
   ]
  },
  {
   "cell_type": "markdown",
   "metadata": {},
   "source": [
    "---\n",
    "## Import random numbers from text file:"
   ]
  },
  {
   "cell_type": "code",
   "execution_count": 6,
   "metadata": {},
   "outputs": [],
   "source": [
    "# Define list of input files:\n",
    "dataset_letter='A' # between A and G\n",
    "infiles = [\"data_RandomDigits2020_\" + dataset_letter + \".txt\" ]"
   ]
  },
  {
   "cell_type": "code",
   "execution_count": 7,
   "metadata": {},
   "outputs": [],
   "source": [
    "# List containing all numbers:\n",
    "numbers = []"
   ]
  },
  {
   "cell_type": "code",
   "execution_count": 8,
   "metadata": {},
   "outputs": [],
   "source": [
    "# Loop over input files open them in read mode\n",
    "for ifile in infiles : \n",
    "    with open( ifile, \"r\" ) as current_file : \n",
    "        # Extract current file info : Loop through each line in the file, loop through each character\n",
    "        # in the line, demand character is not empty (\"\") and convert the result to an integer\n",
    "        # Finally add result to the numbers list\n",
    "        numbers += [int(char) for line in current_file for char in line.strip() if char is not \"\"]"
   ]
  },
  {
   "cell_type": "code",
   "execution_count": 9,
   "metadata": {
    "lines_to_next_cell": 2
   },
   "outputs": [
    {
     "name": "stdout",
     "output_type": "stream",
     "text": [
      "[0 6 3 ... 2 9 8] 6523\n"
     ]
    }
   ],
   "source": [
    "numbers = np.array(numbers)\n",
    "print(numbers, len(numbers))"
   ]
  },
  {
   "cell_type": "markdown",
   "metadata": {},
   "source": [
    "---\n",
    "## Define your tests:\n",
    "\n",
    "Here is an example plot from the data, just for convenience. It is all up to you from here..."
   ]
  },
  {
   "cell_type": "code",
   "execution_count": 10,
   "metadata": {},
   "outputs": [
    {
     "data": {
      "image/png": "[encoded data removed]",
      "text/plain": [
       "<Figure size 360x360 with 1 Axes>"
      ]
     },
     "metadata": {
      "needs_background": "light"
     },
     "output_type": "display_data"
    }
   ],
   "source": [
    "fig, ax = plt.subplots(nrows=1, ncols=1, figsize=(5, 5))\n",
    "\n",
    "# Fill 1d histograms and plot them (for illustration):\n",
    "hist_odd_even = create_1d_hist(ax, numbers % 2,  2, (-0.5, 1.5), 'Even and odd numbers')   # Is number even or odd\n",
    "fig.tight_layout()"
   ]
  },
  {
   "cell_type": "markdown",
   "metadata": {},
   "source": [
    "Questions:\n",
    "---\n",
    " 1. Discuss with your peers, what criteria truly random numbers should satisfy, and how these criteria can be tested.\n",
    "    Based on this and on the discussion in class, write up such tests, and run all the datasets through to see\n",
    "    if some do not seem to be truly random.\n",
    "\n",
    " 2. The non-human data sets are supposedly random, however they are more regular (in some sense) than the humanly generated one.  See if you can determine which one is \"your\" (humanly generated) data."
   ]
  },
  {
   "cell_type": "code",
   "execution_count": null,
   "metadata": {},
   "outputs": [],
   "source": []
  }
 ],
 "metadata": {
  "executable": "/usr/bin/env python",
  "kernelspec": {
   "display_name": "Python 3",
   "language": "python",
   "name": "python3"
  },
  "language_info": {
   "codemirror_mode": {
    "name": "ipython",
    "version": 3
   },
   "file_extension": ".py",
   "mimetype": "text/x-python",
   "name": "python",
   "nbconvert_exporter": "python",
   "pygments_lexer": "ipython3",
   "version": "3.7.6"
  },
  "main_language": "python"
 },
 "nbformat": 4,
 "nbformat_minor": 2
}
