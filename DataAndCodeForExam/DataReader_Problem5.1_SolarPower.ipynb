{
 "cells": [
  {
   "cell_type": "markdown",
   "metadata": {},
   "source": [
    "# Problem 5.1: Solar Power - data reader\n",
    "\n",
    "The following is a small program to read the data file \"data_SolarPower.txt\", which contains three columns: Year, cumulative solar power capacity (in MW), and Price (USD/Watt installed)\n",
    "\n",
    "### Author & Date: \n",
    "- Troels C. Petersen (Niels Bohr Institute)\n",
    "- 20-01-2021\n",
    "\n",
    "***"
   ]
  },
  {
   "cell_type": "code",
   "execution_count": null,
   "metadata": {},
   "outputs": [],
   "source": [
    "# Read the data and print it to check it:\n",
    "import numpy as np\n",
    "\n",
    "year, capacity, price = np.loadtxt(\"data_SolarPower.txt\", skiprows=2, delimiter=\"\\t\", unpack=True)\n",
    "\n",
    "print(\"Number of entries: \", len(year))\n",
    "for i in range(len(year)) : \n",
    "    print(f\"  {int(year[i]):4d}:  {capacity[i]:10.2f}   {price[i]:7.3f}\")"
   ]
  }
 ],
 "metadata": {
  "executable": "/usr/bin/env python",
  "kernelspec": {
   "display_name": "Python 3",
   "language": "python",
   "name": "python3"
  },
  "language_info": {
   "codemirror_mode": {
    "name": "ipython",
    "version": 3
   },
   "file_extension": ".py",
   "mimetype": "text/x-python",
   "name": "python",
   "nbconvert_exporter": "python",
   "pygments_lexer": "ipython3",
   "version": "3.7.6"
  },
  "main_language": "python"
 },
 "nbformat": 4,
 "nbformat_minor": 2
}
