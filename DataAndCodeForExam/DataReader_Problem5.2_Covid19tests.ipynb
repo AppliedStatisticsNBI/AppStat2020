{
 "cells": [
  {
   "cell_type": "markdown",
   "metadata": {},
   "source": [
    "# Problem 5.2: Covid-19 tests - data reader\n",
    "\n",
    "The following is a small program to read the data file \"data_Covid19tests.txt\", which contains three column: Date (in January 2021), Number of (PCR) tests on that day, and number of positive tests that day.\n",
    "\n",
    "### Author & Date: \n",
    "- Troels C. Petersen (Niels Bohr Institute)\n",
    "- 20-01-2021\n",
    "\n",
    "***"
   ]
  },
  {
   "cell_type": "code",
   "execution_count": null,
   "metadata": {
    "scrolled": false
   },
   "outputs": [],
   "source": [
    "# Read the data and print it to check it:\n",
    "import numpy as np\n",
    "date, Ntests, Npositives = np.loadtxt(\"data_Covid19tests.txt\", skiprows=2, unpack=True)\n",
    "\n",
    "print(\"Number of entries: \", len(date))\n",
    "for i in range(len(date)) : \n",
    "    print(f\"  {date[i]:2.0f}  {Ntests[i]:6.0f}  {Npositives[i]:5.0f}\")"
   ]
  }
 ],
 "metadata": {
  "executable": "/usr/bin/env python",
  "kernelspec": {
   "display_name": "Python 3",
   "language": "python",
   "name": "python3"
  },
  "language_info": {
   "codemirror_mode": {
    "name": "ipython",
    "version": 3
   },
   "file_extension": ".py",
   "mimetype": "text/x-python",
   "name": "python",
   "nbconvert_exporter": "python",
   "pygments_lexer": "ipython3",
   "version": "3.7.6"
  },
  "main_language": "python"
 },
 "nbformat": 4,
 "nbformat_minor": 2
}
